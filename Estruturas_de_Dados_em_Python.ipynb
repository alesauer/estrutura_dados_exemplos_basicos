{
 "cells": [
  {
   "cell_type": "markdown",
   "id": "de068ace",
   "metadata": {},
   "source": [
    "\n",
    "# Estruturas de Dados em Python\n",
    "\n",
    "Neste notebook, exploraremos quatro das principais estruturas de dados em Python: **listas**, **tuplas**, **dicionários** e **conjuntos**. Vamos discutir as características de cada uma, incluindo se são mutáveis, ordenáveis, e outras propriedades importantes.\n"
   ]
  },
  {
   "cell_type": "markdown",
   "id": "081cd833",
   "metadata": {},
   "source": [
    "\n",
    "## Listas\n",
    "\n",
    "As listas são coleções ordenadas de itens que podem ser modificadas (mutáveis). Elas podem conter elementos de diferentes tipos de dados, incluindo outras listas.\n",
    "\n",
    "### Características:\n",
    "- **Mutabilidade**: As listas são mutáveis, o que significa que podemos alterar seus elementos após a criação.\n",
    "- **Ordenação**: As listas mantêm a ordem dos elementos conforme são adicionados.\n",
    "- **Indexação**: Permitem acesso aos elementos por índices, começando em 0.\n",
    "- **Tipos de Dados**: Podem armazenar elementos de diferentes tipos, incluindo outras listas.\n",
    "\n",
    "### Exemplo de uso:\n"
   ]
  },
  {
   "cell_type": "code",
   "execution_count": null,
   "id": "068823f1",
   "metadata": {},
   "outputs": [],
   "source": [
    "\n",
    "# Criando uma lista\n",
    "minha_lista = [1, 2, 3, 'Python', [4, 5]]\n",
    "\n",
    "# Acessando um elemento\n",
    "print(minha_lista[3])\n",
    "\n",
    "# Modificando um elemento\n",
    "minha_lista[1] = 'alterado'\n",
    "print(minha_lista)\n"
   ]
  },
  {
   "cell_type": "markdown",
   "id": "0b261a87",
   "metadata": {},
   "source": [
    "\n",
    "## Tuplas\n",
    "\n",
    "As tuplas são semelhantes às listas, mas com uma diferença fundamental: são imutáveis. Uma vez criada uma tupla, seus elementos não podem ser alterados, adicionados ou removidos.\n",
    "\n",
    "### Características:\n",
    "- **Mutabilidade**: Tuplas são imutáveis, não podem ser modificadas após a criação.\n",
    "- **Ordenação**: As tuplas mantêm a ordem dos elementos conforme são adicionados.\n",
    "- **Indexação**: Como as listas, as tuplas permitem acesso aos elementos por índices.\n",
    "- **Uso**: Úteis para armazenar dados que não devem ser alterados.\n",
    "\n",
    "### Exemplo de uso:\n"
   ]
  },
  {
   "cell_type": "code",
   "execution_count": null,
   "id": "bdbd62d4",
   "metadata": {},
   "outputs": [],
   "source": [
    "\n",
    "# Criando uma tupla\n",
    "minha_tupla = (1, 2, 3, 'Python')\n",
    "\n",
    "# Acessando um elemento\n",
    "print(minha_tupla[2])\n",
    "\n",
    "# Tentando modificar um elemento (vai gerar um erro)\n",
    "try:\n",
    "    minha_tupla[1] = 'alterado'\n",
    "except TypeError as e:\n",
    "    print(f\"Erro: {e}\")\n"
   ]
  },
  {
   "cell_type": "markdown",
   "id": "ef9046e0",
   "metadata": {},
   "source": [
    "\n",
    "## Dicionários\n",
    "\n",
    "Os dicionários são coleções de pares chave-valor. Eles são mutáveis e não mantêm uma ordem específica dos elementos.\n",
    "\n",
    "### Características:\n",
    "- **Mutabilidade**: Os dicionários são mutáveis, permitindo a alteração, adição e remoção de pares chave-valor.\n",
    "- **Ordenação**: Antes do Python 3.7, os dicionários não mantinham a ordem dos elementos. A partir do Python 3.7, mantêm a ordem de inserção.\n",
    "- **Chaves Únicas**: As chaves em um dicionário devem ser únicas e imutáveis.\n",
    "- **Acesso**: Permite acesso aos valores através das chaves.\n",
    "\n",
    "### Exemplo de uso:\n"
   ]
  },
  {
   "cell_type": "code",
   "execution_count": null,
   "id": "8800d521",
   "metadata": {},
   "outputs": [],
   "source": [
    "\n",
    "# Criando um dicionário\n",
    "meu_dict = {'nome': 'Python', 'ano': 1991, 'versão': 3.10}\n",
    "\n",
    "# Acessando um valor\n",
    "print(meu_dict['nome'])\n",
    "\n",
    "# Modificando um valor\n",
    "meu_dict['versão'] = 3.9\n",
    "print(meu_dict)\n"
   ]
  },
  {
   "cell_type": "markdown",
   "id": "8836693c",
   "metadata": {},
   "source": [
    "\n",
    "## Conjuntos\n",
    "\n",
    "Os conjuntos são coleções não ordenadas de itens únicos. São mutáveis, mas os itens dentro de um conjunto devem ser imutáveis.\n",
    "\n",
    "### Características:\n",
    "- **Mutabilidade**: O conjunto em si é mutável, mas os elementos dentro dele devem ser imutáveis.\n",
    "- **Ordenação**: Conjuntos não mantêm a ordem dos elementos.\n",
    "- **Elementos Únicos**: Não permite elementos duplicados.\n",
    "- **Operações**: Suporta operações matemáticas de teoria dos conjuntos, como união, interseção e diferença.\n",
    "\n",
    "### Exemplo de uso:\n"
   ]
  },
  {
   "cell_type": "code",
   "execution_count": null,
   "id": "4a12dde1",
   "metadata": {},
   "outputs": [],
   "source": [
    "\n",
    "# Criando um conjunto\n",
    "meu_conjunto = {1, 2, 3, 4, 4}\n",
    "\n",
    "# Mostrando os elementos do conjunto\n",
    "print(meu_conjunto)\n",
    "\n",
    "# Adicionando um elemento\n",
    "meu_conjunto.add(5)\n",
    "print(meu_conjunto)\n",
    "\n",
    "# Tentando adicionar um elemento duplicado (não terá efeito)\n",
    "meu_conjunto.add(2)\n",
    "print(meu_conjunto)\n"
   ]
  },
  {
   "cell_type": "markdown",
   "id": "eaf62961",
   "metadata": {},
   "source": [
    "\n",
    "## Conclusão\n",
    "\n",
    "Essas quatro estruturas de dados oferecem uma variedade de funcionalidades que podem ser aproveitadas dependendo do contexto e da necessidade do seu programa. Entender as características de cada uma é fundamental para escolher a estrutura correta para o seu caso de uso.\n"
   ]
  }
 ],
 "metadata": {},
 "nbformat": 4,
 "nbformat_minor": 5
}
